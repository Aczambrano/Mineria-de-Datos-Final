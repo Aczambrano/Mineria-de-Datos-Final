{
 "cells": [
  {
   "cell_type": "markdown",
   "id": "591d00b5",
   "metadata": {},
   "source": [
    "# Libraries"
   ]
  },
  {
   "cell_type": "code",
   "execution_count": 1,
   "id": "5aeeed1c",
   "metadata": {},
   "outputs": [],
   "source": [
    "import os\n",
    "import cv2\n",
    "from PIL import Image\n",
    "import tensorflow as tf\n",
    "from tensorflow.keras import layers, models\n",
    "from tensorflow.keras.models import load_model\n",
    "from keras.models import Sequential\n",
    "from tensorflow.keras.utils import to_categorical\n",
    "from tensorflow.keras.optimizers import Adam, RMSprop\n",
    "from tensorflow.keras.callbacks import ReduceLROnPlateau\n",
    "from tensorflow.keras.preprocessing.image import ImageDataGenerator, img_to_array\n",
    "from tensorflow.keras.callbacks import EarlyStopping\n",
    "import numpy as np\n",
    "import matplotlib.pyplot as plt\n",
    "from sklearn.model_selection import train_test_split\n",
    "from sklearn.metrics import accuracy_score, precision_score, recall_score, f1_score\n",
    "import time\n",
    "import math\n",
    "import logging"
   ]
  },
  {
   "cell_type": "code",
   "execution_count": 2,
   "id": "5f95791f",
   "metadata": {},
   "outputs": [],
   "source": [
    "class ChannelAttention(tf.keras.layers.Layer):\n",
    "      def __init__(self, filters, ratio):\n",
    "        super(ChannelAttention, self).__init__()\n",
    "        self.filters = filters\n",
    "        self.ratio = ratio\n",
    "\n",
    "        def build(self, input_shape):\n",
    "            self.shared_layer_one = tf.keras.layers.Dense(self.filters//self.ratio,\n",
    "                             activation='relu', kernel_initializer='he_normal', \n",
    "                              use_bias=True, \n",
    "                              bias_initializer='zeros')\n",
    "            self.shared_layer_two = tf.keras.layers.Dense(self.filters,\n",
    "                             kernel_initializer='he_normal',\n",
    "                             use_bias=True,\n",
    "                             bias_initializer='zeros')\n",
    "\n",
    "        def call(self, inputs):\n",
    "            # AvgPool\n",
    "            avg_pool = tf.keras.layers.GlobalAveragePooling2D()(inputs)\n",
    "            \n",
    "\n",
    "            avg_pool = self.shared_layer_one(avg_pool)\n",
    "            avg_pool = self.shared_layer_two(avg_pool)\n",
    "\n",
    "            # MaxPool\n",
    "            max_pool = tf.keras.layers.GlobalMaxPooling2D()(inputs)\n",
    "            max_pool = tf.keras.layers.Reshape((1,1,filters))(max_pool)\n",
    "\n",
    "            max_pool = shared_layer_one(max_pool)\n",
    "            max_pool = shared_layer_two(max_pool)\n",
    "\n",
    "\n",
    "            attention = tf.keras.layers.Add()([avg_pool,max_pool])\n",
    "            attention = tf.keras.layers.Activation('sigmoid')(attention)\n",
    "            \n",
    "            return tf.keras.layers.Multiply()([inputs, attention])"
   ]
  },
  {
   "cell_type": "code",
   "execution_count": 3,
   "id": "53717eef",
   "metadata": {},
   "outputs": [],
   "source": [
    "class SpatialAttention(tf.keras.layers.Layer):\n",
    "      def __init__(self, kernel_size):\n",
    "        super(SpatialAttention, self).__init__()\n",
    "        self.kernel_size = kernel_size\n",
    "        \n",
    "        def build(self, input_shape):\n",
    "            self.conv2d = tf.keras.layers.Conv2D(filters = 1,\n",
    "                    kernel_size=self.kernel_size,\n",
    "                    strides=1,\n",
    "                    padding='same',\n",
    "                    activation='sigmoid',\n",
    "                    kernel_initializer='he_normal',\n",
    "                    use_bias=False)\n",
    "\n",
    "        def call(self, inputs):\n",
    "            \n",
    "            # AvgPool\n",
    "            avg_pool = tf.keras.layers.Lambda(lambda x: tf.keras.backend.mean(x, axis=3, keepdims=True))(inputs)\n",
    "            \n",
    "            # MaxPool\n",
    "            max_pool = tf.keras.layers.Lambda(lambda x: tf.keras.backend.max(x, axis=3, keepdims=True))(inputs)\n",
    "\n",
    "            attention = tf.keras.layers.Concatenate(axis=3)([avg_pool, max_pool])\n",
    "\n",
    "            attention = self.conv2d(attention)\n",
    "\n",
    "\n",
    "            return tf.keras.layers.multiply([inputs, attention]) "
   ]
  },
  {
   "cell_type": "markdown",
   "id": "153d78df",
   "metadata": {},
   "source": [
    "# Data loading and exploration"
   ]
  },
  {
   "cell_type": "code",
   "execution_count": 4,
   "id": "ea124e9f",
   "metadata": {},
   "outputs": [],
   "source": [
    "IMG_SHAPE  = 299\n",
    "batch_size = 32\n",
    "random_seed = 9"
   ]
  },
  {
   "cell_type": "code",
   "execution_count": 5,
   "id": "977a88e9",
   "metadata": {},
   "outputs": [
    {
     "name": "stdout",
     "output_type": "stream",
     "text": [
      "List of categories =  ['closed', 'open'] \n",
      "\n",
      "No. of categories =  2\n"
     ]
    }
   ],
   "source": [
    "fpath = '../Dataset'\n",
    "categories = os.listdir(fpath)\n",
    "print(\"List of categories = \",categories,\"\\n\\nNo. of categories = \", len(categories))"
   ]
  },
  {
   "cell_type": "code",
   "execution_count": 6,
   "id": "ed8c4c56",
   "metadata": {},
   "outputs": [
    {
     "name": "stdout",
     "output_type": "stream",
     "text": [
      "No. of images loaded =  2422 \n",
      "No. of labels loaded =  2422\n",
      "<class 'list'> <class 'list'>\n"
     ]
    }
   ],
   "source": [
    "def load_images_and_labels(categories):\n",
    "    img_lst=[]\n",
    "    labels=[]\n",
    "    for index, category in enumerate(categories):\n",
    "        for image_name in os.listdir(fpath+\"/\"+category):\n",
    "            img = cv2.imread(fpath+\"/\"+category+\"/\"+image_name)\n",
    "            img = cv2.cvtColor(img, cv2.COLOR_BGR2RGB)\n",
    "            img = cv2.resize(img, (IMG_SHAPE, IMG_SHAPE))\n",
    "            img_array = Image.fromarray(img, 'RGB')\n",
    "            \n",
    "            img_lst.append(np.array(img_array))\n",
    "            \n",
    "            labels.append(index)\n",
    "    return img_lst, labels\n",
    "\n",
    "images, labels = load_images_and_labels(categories)\n",
    "print(\"No. of images loaded = \",len(images),\"\\nNo. of labels loaded = \",len(labels))\n",
    "print(type(images),type(labels))"
   ]
  },
  {
   "cell_type": "code",
   "execution_count": 7,
   "id": "d6ccc4b0",
   "metadata": {},
   "outputs": [
    {
     "name": "stdout",
     "output_type": "stream",
     "text": [
      "Images shape =  (2422, 299, 299, 3) \n",
      "Labels shape =  (2422,)\n",
      "<class 'numpy.ndarray'> <class 'numpy.ndarray'>\n"
     ]
    }
   ],
   "source": [
    "images = np.array(images)\n",
    "labels = np.array(labels)\n",
    "\n",
    "print(\"Images shape = \",images.shape,\"\\nLabels shape = \",labels.shape)\n",
    "print(type(images),type(labels))"
   ]
  },
  {
   "cell_type": "code",
   "execution_count": 8,
   "id": "9c059968",
   "metadata": {
    "scrolled": true
   },
   "outputs": [
    {
     "data": {
      "image/png": "[encoded data removed]",
      "text/plain": [
       "<Figure size 1368x720 with 9 Axes>"
      ]
     },
     "metadata": {},
     "output_type": "display_data"
    }
   ],
   "source": [
    "def display_rand_images(images, labels):\n",
    "    plt.figure(1 , figsize = (19 , 10))\n",
    "    n = 0 \n",
    "    for i in range(9):\n",
    "        n += 1 \n",
    "        r = np.random.randint(0 , images.shape[0] , 1)\n",
    "        \n",
    "        plt.subplot(3 , 3 , n)\n",
    "        plt.subplots_adjust(hspace = 0.3 , wspace = 0.3)\n",
    "        plt.imshow(images[r[0]])\n",
    "        \n",
    "        plt.title('Ojos : {}'.format(labels[r[0]]))\n",
    "        plt.xticks([])\n",
    "        plt.yticks([])\n",
    "        \n",
    "    plt.show()\n",
    "    \n",
    "display_rand_images(images, labels)"
   ]
  },
  {
   "cell_type": "markdown",
   "id": "fbb55d6a",
   "metadata": {},
   "source": [
    "# Prepare data for training the CNN model"
   ]
  },
  {
   "cell_type": "code",
   "execution_count": 9,
   "id": "f3ef9f15",
   "metadata": {},
   "outputs": [
    {
     "name": "stdout",
     "output_type": "stream",
     "text": [
      "'n' values before shuffling =  [   0    1    2 ... 2419 2420 2421]\n",
      "\n",
      "'n' values after shuffling =  [ 737 2294  456 ...  501  348  382]\n"
     ]
    }
   ],
   "source": [
    "#1-step in data shuffling\n",
    "\n",
    "#get equally spaced numbers in a given range\n",
    "n = np.arange(images.shape[0])\n",
    "print(\"'n' values before shuffling = \",n)\n",
    "\n",
    "#shuffle all the equally spaced values in list 'n'\n",
    "np.random.seed(random_seed)\n",
    "np.random.shuffle(n)\n",
    "print(\"\\n'n' values after shuffling = \",n)"
   ]
  },
  {
   "cell_type": "code",
   "execution_count": 10,
   "id": "f1c775a4",
   "metadata": {},
   "outputs": [
    {
     "name": "stdout",
     "output_type": "stream",
     "text": [
      "Images shape after shuffling =  (2422, 299, 299, 3) \n",
      "Labels shape after shuffling =  (2422,)\n"
     ]
    }
   ],
   "source": [
    "#2-step in data shuffling\n",
    "\n",
    "#shuffle images and corresponding labels data in both the lists\n",
    "images = images[n]\n",
    "labels = labels[n]\n",
    "\n",
    "print(\"Images shape after shuffling = \",images.shape,\"\\nLabels shape after shuffling = \",labels.shape)"
   ]
  },
  {
   "cell_type": "code",
   "execution_count": 11,
   "id": "03908334",
   "metadata": {},
   "outputs": [
    {
     "name": "stdout",
     "output_type": "stream",
     "text": [
      "Images shape after normalization =  (2422, 299, 299, 3)\n"
     ]
    }
   ],
   "source": [
    "images = images.astype(np.float32)\n",
    "labels = labels.astype(np.int32)\n",
    "images = images/255\n",
    "print(\"Images shape after normalization = \",images.shape)"
   ]
  },
  {
   "cell_type": "code",
   "execution_count": 12,
   "id": "74396818",
   "metadata": {},
   "outputs": [
    {
     "name": "stdout",
     "output_type": "stream",
     "text": [
      "x_train shape =  (1879, 299, 299, 3)\n",
      "y_train shape =  (1879,)\n",
      "\n",
      "x_test shape =  (485, 299, 299, 3)\n",
      "y_test shape =  (485,)\n",
      "\n",
      "x_val shape =  (58, 299, 299, 3)\n",
      "y_val shape =  (58,)\n"
     ]
    }
   ],
   "source": [
    "x_train, x_test, y_train, y_test = train_test_split(images, labels, test_size = 0.2, random_state = random_seed)\n",
    "\n",
    "x_val = x_train[:58]\n",
    "y_val = y_train[:58]\n",
    "x_train = x_train[58:]\n",
    "y_train = y_train[58:]\n",
    "\n",
    "print(\"x_train shape = \",x_train.shape)\n",
    "print(\"y_train shape = \",y_train.shape)\n",
    "print(\"\\nx_test shape = \",x_test.shape)\n",
    "print(\"y_test shape = \",y_test.shape)\n",
    "\n",
    "print(\"\\nx_val shape = \",x_val.shape)\n",
    "print(\"y_val shape = \",y_val.shape)"
   ]
  },
  {
   "cell_type": "code",
   "execution_count": 13,
   "id": "f71fd66f",
   "metadata": {},
   "outputs": [],
   "source": [
    "##One-hot-encode\n",
    "y_train = to_categorical(y_train, 3)\n",
    "y_test = to_categorical(y_test, 3)\n",
    "y_val = to_categorical(y_val, 3)"
   ]
  },
  {
   "cell_type": "markdown",
   "id": "19145bea",
   "metadata": {},
   "source": [
    "# Define CNN model"
   ]
  },
  {
   "cell_type": "code",
   "execution_count": 14,
   "id": "374f8ab1",
   "metadata": {},
   "outputs": [],
   "source": [
    "base_model = tf.keras.applications.inception_v3.InceptionV3(input_shape=x_train[0].shape, include_top=False, weights=\"imagenet\")"
   ]
  },
  {
   "cell_type": "code",
   "execution_count": 15,
   "id": "4d4343ef",
   "metadata": {},
   "outputs": [
    {
     "name": "stdout",
     "output_type": "stream",
     "text": [
      "input_1\n",
      "conv2d\n",
      "batch_normalization\n",
      "activation\n",
      "conv2d_1\n",
      "batch_normalization_1\n",
      "activation_1\n",
      "conv2d_2\n",
      "batch_normalization_2\n",
      "activation_2\n",
      "max_pooling2d\n",
      "conv2d_3\n",
      "batch_normalization_3\n",
      "activation_3\n",
      "conv2d_4\n",
      "batch_normalization_4\n",
      "activation_4\n",
      "max_pooling2d_1\n",
      "conv2d_8\n",
      "batch_normalization_8\n",
      "activation_8\n",
      "conv2d_6\n",
      "conv2d_9\n",
      "batch_normalization_6\n",
      "batch_normalization_9\n",
      "activation_6\n",
      "activation_9\n",
      "average_pooling2d\n",
      "conv2d_5\n",
      "conv2d_7\n",
      "conv2d_10\n",
      "conv2d_11\n",
      "batch_normalization_5\n",
      "batch_normalization_7\n",
      "batch_normalization_10\n",
      "batch_normalization_11\n",
      "activation_5\n",
      "activation_7\n",
      "activation_10\n",
      "activation_11\n",
      "mixed0\n",
      "conv2d_15\n",
      "batch_normalization_15\n",
      "activation_15\n",
      "conv2d_13\n",
      "conv2d_16\n",
      "batch_normalization_13\n",
      "batch_normalization_16\n",
      "activation_13\n",
      "activation_16\n",
      "average_pooling2d_1\n",
      "conv2d_12\n",
      "conv2d_14\n",
      "conv2d_17\n",
      "conv2d_18\n",
      "batch_normalization_12\n",
      "batch_normalization_14\n",
      "batch_normalization_17\n",
      "batch_normalization_18\n",
      "activation_12\n",
      "activation_14\n",
      "activation_17\n",
      "activation_18\n",
      "mixed1\n",
      "conv2d_22\n",
      "batch_normalization_22\n",
      "activation_22\n",
      "conv2d_20\n",
      "conv2d_23\n",
      "batch_normalization_20\n",
      "batch_normalization_23\n",
      "activation_20\n",
      "activation_23\n",
      "average_pooling2d_2\n",
      "conv2d_19\n",
      "conv2d_21\n",
      "conv2d_24\n",
      "conv2d_25\n",
      "batch_normalization_19\n",
      "batch_normalization_21\n",
      "batch_normalization_24\n",
      "batch_normalization_25\n",
      "activation_19\n",
      "activation_21\n",
      "activation_24\n",
      "activation_25\n",
      "mixed2\n",
      "conv2d_27\n",
      "batch_normalization_27\n",
      "activation_27\n",
      "conv2d_28\n",
      "batch_normalization_28\n",
      "activation_28\n",
      "conv2d_26\n",
      "conv2d_29\n",
      "batch_normalization_26\n",
      "batch_normalization_29\n",
      "activation_26\n",
      "activation_29\n",
      "max_pooling2d_2\n",
      "mixed3\n",
      "conv2d_34\n",
      "batch_normalization_34\n",
      "activation_34\n",
      "conv2d_35\n",
      "batch_normalization_35\n",
      "activation_35\n",
      "conv2d_31\n",
      "conv2d_36\n",
      "batch_normalization_31\n",
      "batch_normalization_36\n",
      "activation_31\n",
      "activation_36\n",
      "conv2d_32\n",
      "conv2d_37\n",
      "batch_normalization_32\n",
      "batch_normalization_37\n",
      "activation_32\n",
      "activation_37\n",
      "average_pooling2d_3\n",
      "conv2d_30\n",
      "conv2d_33\n",
      "conv2d_38\n",
      "conv2d_39\n",
      "batch_normalization_30\n",
      "batch_normalization_33\n",
      "batch_normalization_38\n",
      "batch_normalization_39\n",
      "activation_30\n",
      "activation_33\n",
      "activation_38\n",
      "activation_39\n",
      "mixed4\n",
      "conv2d_44\n",
      "batch_normalization_44\n",
      "activation_44\n",
      "conv2d_45\n",
      "batch_normalization_45\n",
      "activation_45\n",
      "conv2d_41\n",
      "conv2d_46\n",
      "batch_normalization_41\n",
      "batch_normalization_46\n",
      "activation_41\n",
      "activation_46\n",
      "conv2d_42\n",
      "conv2d_47\n",
      "batch_normalization_42\n",
      "batch_normalization_47\n",
      "activation_42\n",
      "activation_47\n",
      "average_pooling2d_4\n",
      "conv2d_40\n",
      "conv2d_43\n",
      "conv2d_48\n",
      "conv2d_49\n",
      "batch_normalization_40\n",
      "batch_normalization_43\n",
      "batch_normalization_48\n",
      "batch_normalization_49\n",
      "activation_40\n",
      "activation_43\n",
      "activation_48\n",
      "activation_49\n",
      "mixed5\n",
      "conv2d_54\n",
      "batch_normalization_54\n",
      "activation_54\n",
      "conv2d_55\n",
      "batch_normalization_55\n",
      "activation_55\n",
      "conv2d_51\n",
      "conv2d_56\n",
      "batch_normalization_51\n",
      "batch_normalization_56\n",
      "activation_51\n",
      "activation_56\n",
      "conv2d_52\n",
      "conv2d_57\n",
      "batch_normalization_52\n",
      "batch_normalization_57\n",
      "activation_52\n",
      "activation_57\n",
      "average_pooling2d_5\n",
      "conv2d_50\n",
      "conv2d_53\n",
      "conv2d_58\n",
      "conv2d_59\n",
      "batch_normalization_50\n",
      "batch_normalization_53\n",
      "batch_normalization_58\n",
      "batch_normalization_59\n",
      "activation_50\n",
      "activation_53\n",
      "activation_58\n",
      "activation_59\n",
      "mixed6\n",
      "conv2d_64\n",
      "batch_normalization_64\n",
      "activation_64\n",
      "conv2d_65\n",
      "batch_normalization_65\n",
      "activation_65\n",
      "conv2d_61\n",
      "conv2d_66\n",
      "batch_normalization_61\n",
      "batch_normalization_66\n",
      "activation_61\n",
      "activation_66\n",
      "conv2d_62\n",
      "conv2d_67\n",
      "batch_normalization_62\n",
      "batch_normalization_67\n",
      "activation_62\n",
      "activation_67\n",
      "average_pooling2d_6\n",
      "conv2d_60\n",
      "conv2d_63\n",
      "conv2d_68\n",
      "conv2d_69\n",
      "batch_normalization_60\n",
      "batch_normalization_63\n",
      "batch_normalization_68\n",
      "batch_normalization_69\n",
      "activation_60\n",
      "activation_63\n",
      "activation_68\n",
      "activation_69\n",
      "mixed7\n",
      "conv2d_72\n",
      "batch_normalization_72\n",
      "activation_72\n",
      "conv2d_73\n",
      "batch_normalization_73\n",
      "activation_73\n",
      "conv2d_70\n",
      "conv2d_74\n",
      "batch_normalization_70\n",
      "batch_normalization_74\n",
      "activation_70\n",
      "activation_74\n",
      "conv2d_71\n",
      "conv2d_75\n",
      "batch_normalization_71\n",
      "batch_normalization_75\n",
      "activation_71\n",
      "activation_75\n",
      "max_pooling2d_3\n",
      "mixed8\n",
      "conv2d_80\n",
      "batch_normalization_80\n",
      "activation_80\n",
      "conv2d_77\n",
      "conv2d_81\n",
      "batch_normalization_77\n",
      "batch_normalization_81\n",
      "activation_77\n",
      "activation_81\n",
      "conv2d_78\n",
      "conv2d_79\n",
      "conv2d_82\n",
      "conv2d_83\n",
      "average_pooling2d_7\n",
      "conv2d_76\n",
      "batch_normalization_78\n",
      "batch_normalization_79\n",
      "batch_normalization_82\n",
      "batch_normalization_83\n",
      "conv2d_84\n",
      "batch_normalization_76\n",
      "activation_78\n",
      "activation_79\n",
      "activation_82\n",
      "activation_83\n",
      "batch_normalization_84\n",
      "activation_76\n",
      "mixed9_0\n",
      "concatenate\n",
      "activation_84\n",
      "mixed9\n",
      "conv2d_89\n",
      "batch_normalization_89\n",
      "activation_89\n",
      "conv2d_86\n",
      "conv2d_90\n",
      "batch_normalization_86\n",
      "batch_normalization_90\n",
      "activation_86\n",
      "activation_90\n",
      "conv2d_87\n",
      "conv2d_88\n",
      "conv2d_91\n",
      "conv2d_92\n",
      "average_pooling2d_8\n",
      "conv2d_85\n",
      "batch_normalization_87\n",
      "batch_normalization_88\n",
      "batch_normalization_91\n",
      "batch_normalization_92\n",
      "conv2d_93\n",
      "batch_normalization_85\n",
      "activation_87\n",
      "activation_88\n",
      "activation_91\n",
      "activation_92\n",
      "batch_normalization_93\n",
      "activation_85\n",
      "mixed9_1\n",
      "concatenate_1\n",
      "activation_93\n",
      "mixed10\n"
     ]
    }
   ],
   "source": [
    "for layer in base_model.layers:\n",
    "    print(layer.name)\n",
    "    layer.trainable = False"
   ]
  },
  {
   "cell_type": "code",
   "execution_count": 16,
   "id": "11283b54",
   "metadata": {},
   "outputs": [],
   "source": [
    "from tensorflow.keras import layers, models\n",
    "flatten_layer = layers.Flatten()\n",
    "dense_layer_1 = layers.Dense(50, activation='relu')\n",
    "dense_layer_2 = layers.Dense(20, activation='relu')\n",
    "prediction_layer = layers.Dense(3, activation='sigmoid')\n",
    "\n",
    "\n",
    "model = models.Sequential([\n",
    "    base_model,\n",
    "    flatten_layer,\n",
    "    dense_layer_1,\n",
    "    dense_layer_2,\n",
    "    ChannelAttention(64, 8),\n",
    "    SpatialAttention(7),\n",
    "    prediction_layer\n",
    "])"
   ]
  },
  {
   "cell_type": "markdown",
   "id": "87c7cbc5",
   "metadata": {},
   "source": [
    "# Train model"
   ]
  },
  {
   "cell_type": "code",
   "execution_count": 17,
   "id": "69d2defd",
   "metadata": {},
   "outputs": [],
   "source": [
    "model.compile(optimizer='adam', loss=tf.keras.losses.categorical_crossentropy, metrics=['acc'])"
   ]
  },
  {
   "cell_type": "code",
   "execution_count": 18,
   "id": "f851b2e3",
   "metadata": {},
   "outputs": [
    {
     "name": "stdout",
     "output_type": "stream",
     "text": [
      "Model: \"sequential\"\n",
      "_________________________________________________________________\n",
      " Layer (type)                Output Shape              Param #   \n",
      "=================================================================\n",
      " inception_v3 (Functional)   (None, 8, 8, 2048)        21802784  \n",
      "                                                                 \n",
      " flatten (Flatten)           (None, 131072)            0         \n",
      "                                                                 \n",
      " dense (Dense)               (None, 50)                6553650   \n",
      "                                                                 \n",
      " dense_1 (Dense)             (None, 20)                1020      \n",
      "                                                                 \n",
      " channel_attention (ChannelA  (None, 20)               0         \n",
      " ttention)                                                       \n",
      "                                                                 \n",
      " spatial_attention (SpatialA  (None, 20)               0         \n",
      " ttention)                                                       \n",
      "                                                                 \n",
      " dense_2 (Dense)             (None, 3)                 63        \n",
      "                                                                 \n",
      "=================================================================\n",
      "Total params: 28,357,517\n",
      "Trainable params: 6,554,733\n",
      "Non-trainable params: 21,802,784\n",
      "_________________________________________________________________\n"
     ]
    }
   ],
   "source": [
    "model.summary()"
   ]
  },
  {
   "cell_type": "code",
   "execution_count": 19,
   "id": "11cca389",
   "metadata": {},
   "outputs": [],
   "source": [
    "steps_per_epoch = (x_train.shape[0]//batch_size)\n",
    "validation_steps = (x_val.shape[0] // batch_size)\n",
    "\n",
    "es = EarlyStopping(monitor='val_loss', mode='min', verbose=1, patience=200)"
   ]
  },
  {
   "cell_type": "code",
   "execution_count": 20,
   "id": "0f72e0fb",
   "metadata": {},
   "outputs": [
    {
     "data": {
      "text/plain": [
       "((1879, 299, 299, 3), (1879, 3))"
      ]
     },
     "execution_count": 20,
     "metadata": {},
     "output_type": "execute_result"
    }
   ],
   "source": [
    "x_train.shape,y_train.shape"
   ]
  },
  {
   "cell_type": "code",
   "execution_count": 21,
   "id": "49254f8f",
   "metadata": {
    "scrolled": true
   },
   "outputs": [
    {
     "name": "stdout",
     "output_type": "stream",
     "text": [
      "Epoch 1/20\n",
      "58/58 [==============================] - 208s 3s/step - loss: 2.2616 - acc: 0.8448 - val_loss: 0.0161 - val_acc: 1.0000\n",
      "Epoch 2/20\n",
      "58/58 [==============================] - 191s 3s/step - loss: 0.1203 - acc: 0.9664 - val_loss: 0.0434 - val_acc: 0.9688\n",
      "Epoch 3/20\n",
      "58/58 [==============================] - 195s 3s/step - loss: 0.0368 - acc: 0.9843 - val_loss: 0.2563 - val_acc: 0.9375\n",
      "Epoch 4/20\n",
      "58/58 [==============================] - 192s 3s/step - loss: 0.0215 - acc: 0.9913 - val_loss: 0.0595 - val_acc: 0.9688\n",
      "Epoch 5/20\n",
      "58/58 [==============================] - 196s 3s/step - loss: 0.0048 - acc: 0.9995 - val_loss: 0.0826 - val_acc: 0.9688\n",
      "Epoch 6/20\n",
      "58/58 [==============================] - 194s 3s/step - loss: 0.0023 - acc: 1.0000 - val_loss: 0.0880 - val_acc: 0.9688\n",
      "Epoch 7/20\n",
      "58/58 [==============================] - 188s 3s/step - loss: 0.0012 - acc: 1.0000 - val_loss: 0.1348 - val_acc: 0.9375\n",
      "Epoch 8/20\n",
      "58/58 [==============================] - 192s 3s/step - loss: 8.4541e-04 - acc: 1.0000 - val_loss: 0.1368 - val_acc: 0.9375\n",
      "Epoch 9/20\n",
      "58/58 [==============================] - 192s 3s/step - loss: 9.1490e-04 - acc: 1.0000 - val_loss: 0.0986 - val_acc: 0.9375\n",
      "Epoch 10/20\n",
      "58/58 [==============================] - 196s 3s/step - loss: 7.3765e-04 - acc: 1.0000 - val_loss: 0.1252 - val_acc: 0.9375\n",
      "Epoch 11/20\n",
      "58/58 [==============================] - 203s 4s/step - loss: 6.9088e-04 - acc: 1.0000 - val_loss: 0.1459 - val_acc: 0.9375\n",
      "Epoch 12/20\n",
      "58/58 [==============================] - 196s 3s/step - loss: 6.0072e-04 - acc: 1.0000 - val_loss: 0.1202 - val_acc: 0.9375\n",
      "Epoch 13/20\n",
      "58/58 [==============================] - 189s 3s/step - loss: 4.9603e-04 - acc: 1.0000 - val_loss: 0.1443 - val_acc: 0.9375\n",
      "Epoch 14/20\n",
      "58/58 [==============================] - 149s 3s/step - loss: 5.0800e-04 - acc: 1.0000 - val_loss: 0.1305 - val_acc: 0.9375\n",
      "Epoch 15/20\n",
      "58/58 [==============================] - 148s 3s/step - loss: 4.3074e-04 - acc: 1.0000 - val_loss: 0.1257 - val_acc: 0.9375\n",
      "Epoch 16/20\n",
      "58/58 [==============================] - 172s 3s/step - loss: 4.4615e-04 - acc: 1.0000 - val_loss: 0.1512 - val_acc: 0.9375\n",
      "Epoch 17/20\n",
      "58/58 [==============================] - 174s 3s/step - loss: 3.1425e-04 - acc: 1.0000 - val_loss: 0.1398 - val_acc: 0.9375\n",
      "Epoch 18/20\n",
      "58/58 [==============================] - 160s 3s/step - loss: 3.3503e-04 - acc: 1.0000 - val_loss: 0.1312 - val_acc: 0.9375\n",
      "Epoch 19/20\n",
      "58/58 [==============================] - 137s 2s/step - loss: 3.1532e-04 - acc: 1.0000 - val_loss: 0.1245 - val_acc: 0.9375\n",
      "Epoch 20/20\n",
      "58/58 [==============================] - 141s 2s/step - loss: 2.7436e-04 - acc: 1.0000 - val_loss: 0.1385 - val_acc: 0.9375\n"
     ]
    }
   ],
   "source": [
    "start_time = time.time()\n",
    "\n",
    "history = model.fit(x_train, y_train,\n",
    "    steps_per_epoch=steps_per_epoch,\n",
    "    epochs = 20,\n",
    "    validation_data=(x_val, y_val),\n",
    "    validation_steps=validation_steps,\n",
    "    batch_size = batch_size,\n",
    "    callbacks=[es],\n",
    "    verbose=1)\n",
    "\n",
    "logging.basicConfig(filename=\"CNN-basedTL_InceptionV3log.txt\", level=logging.INFO)\n",
    "logging.info(\"Training Execution Time:\" + time.strftime(\"%H:%M:%S\", time.gmtime(time.time() - start_time)))"
   ]
  },
  {
   "cell_type": "markdown",
   "id": "364079c7",
   "metadata": {},
   "source": [
    "# Evaluation model"
   ]
  },
  {
   "cell_type": "code",
   "execution_count": 23,
   "id": "e18f9753",
   "metadata": {},
   "outputs": [
    {
     "name": "stdout",
     "output_type": "stream",
     "text": [
      "16/16 [==============================] - 33s 2s/step - loss: 0.1605 - acc: 0.9670\n",
      "test_loss: 16.05\n",
      "test_accuracy: 96.70\n"
     ]
    }
   ],
   "source": [
    "start_time = time.time()\n",
    "\n",
    "loss, accuracy = model.evaluate(x_test,y_test,batch_size=batch_size)\n",
    "print('test_loss: %.2f' % (loss * 100.0))  \n",
    "print('test_accuracy: %.2f' % (accuracy * 100.0))\n",
    "\n",
    "logging.info(\"Evaluation Execution Time: \" + time.strftime(\"%H:%M:%S\", time.gmtime(time.time() - start_time)))\n",
    "logging.info(\"test_loss:\" + str(loss))\n",
    "logging.info(\"test accuracy:\" + str(accuracy))"
   ]
  },
  {
   "cell_type": "code",
   "execution_count": 24,
   "id": "e47618e1",
   "metadata": {},
   "outputs": [
    {
     "name": "stdout",
     "output_type": "stream",
     "text": [
      "Accuracy: 96.70\n",
      "F1 score: 96.70\n",
      "Precision: 96.70\n",
      "Recall: 96.70\n"
     ]
    }
   ],
   "source": [
    "model_probs = model.predict(x_test,batch_size=batch_size,verbose=0)\n",
    "y_pred = model_probs\n",
    "# predict crisp classes for test set\n",
    "model_classes = np.argmax(model_probs,axis=1)\n",
    "# reduce to 1d array\n",
    "model_probs = model_probs[:, 0]\n",
    "\n",
    "y_test_reduced = np.argmax(y_test,axis=1)\n",
    " \n",
    "# accuracy: (tp + tn) / (p + n)\n",
    "accuracy = accuracy_score(y_test_reduced, model_classes)*100\n",
    "# precision tp / (tp + fp)\n",
    "precision = precision_score(y_test_reduced, model_classes, average='weighted')*100\n",
    "# recall: tp / (tp + fn)\n",
    "recall = recall_score(y_test_reduced, model_classes, average='weighted')*100\n",
    "# f1: 2 tp / (2 tp + fp + fn)\n",
    "f1 = f1_score(y_test_reduced, model_classes, average='weighted')*100\n",
    "\n",
    "print('Accuracy: %.2f' % accuracy)\n",
    "print('F1 score: %.2f' % f1)\n",
    "print('Precision: %.2f' % precision)\n",
    "print('Recall: %.2f' % recall)\n",
    "\n",
    "logging.info('Accuracy: %.2f' % accuracy)\n",
    "logging.info('F1 score: %.2f' % f1)\n",
    "logging.info('Precision: %.2f' % precision)\n",
    "logging.info('Recall: %.2f' % recall)"
   ]
  },
  {
   "cell_type": "code",
   "execution_count": 26,
   "id": "49161650",
   "metadata": {},
   "outputs": [
    {
     "data": {
      "image/png": "[encoded data removed]",
      "text/plain": [
       "<Figure size 432x288 with 1 Axes>"
      ]
     },
     "metadata": {
      "needs_background": "light"
     },
     "output_type": "display_data"
    }
   ],
   "source": [
    "accuracy = history.history['acc']\n",
    "validation_accuracy = history.history['val_acc']\n",
    "epochs = range(len(accuracy))\n",
    "plt.plot(epochs, accuracy, 'r', label='Training accuracy')\n",
    "plt.plot(epochs, validation_accuracy, 'b', label='Validation accuracy')\n",
    "plt.title('Training and validation accuracy')\n",
    "plt.legend(loc=0)\n",
    "plt.savefig(\"Training and validation accuracy - CNN-based TL.png\")\n",
    "plt.show() "
   ]
  },
  {
   "cell_type": "code",
   "execution_count": 27,
   "id": "fabaca91",
   "metadata": {},
   "outputs": [
    {
     "data": {
      "text/plain": [
       "array([[0., 0., 0.],\n",
       "       [0., 0., 0.],\n",
       "       [0., 1., 0.],\n",
       "       ...,\n",
       "       [0., 1., 0.],\n",
       "       [0., 0., 0.],\n",
       "       [0., 0., 0.]], dtype=float32)"
      ]
     },
     "execution_count": 27,
     "metadata": {},
     "output_type": "execute_result"
    }
   ],
   "source": [
    "y_pred.round()"
   ]
  },
  {
   "cell_type": "code",
   "execution_count": 32,
   "id": "d38dd26f",
   "metadata": {},
   "outputs": [],
   "source": [
    "Y_test_classes = np.argmax(y_test,axis = 1) "
   ]
  },
  {
   "cell_type": "code",
   "execution_count": 33,
   "id": "d6a0ee4f",
   "metadata": {},
   "outputs": [],
   "source": [
    "Y_pred_classes = np.argmax(y_pred,axis = 1) "
   ]
  },
  {
   "cell_type": "code",
   "execution_count": 34,
   "id": "7d5161e4",
   "metadata": {},
   "outputs": [
    {
     "name": "stdout",
     "output_type": "stream",
     "text": [
      "Confusion Matrix\n",
      "\n",
      "[[239   8]\n",
      " [  8 230]]\n"
     ]
    }
   ],
   "source": [
    "from sklearn.metrics import confusion_matrix\n",
    "confusion = confusion_matrix(Y_test_classes,Y_pred_classes)\n",
    "print('Confusion Matrix\\n')\n",
    "print(confusion) "
   ]
  },
  {
   "cell_type": "code",
   "execution_count": 37,
   "id": "ea4875f3",
   "metadata": {},
   "outputs": [
    {
     "data": {
      "image/png": "[encoded data removed]",
      "text/plain": [
       "<Figure size 504x360 with 2 Axes>"
      ]
     },
     "metadata": {
      "needs_background": "light"
     },
     "output_type": "display_data"
    }
   ],
   "source": [
    "import seaborn as sns\n",
    "plt.figure(figsize=(7, 5))\n",
    "plt.xlabel(\"Preciccion\")\n",
    "plt.ylabel(\"Actual\")\n",
    "gf = sns.heatmap(confusion, annot=True,  annot_kws={'size': 15}, fmt = \"d\")\n",
    "gf.set_title('Confusion Matrix with labels')\n",
    "gf.set_xlabel('Predicted Values')\n",
    "gf.set_ylabel('Actual Values ')\n",
    "plt.show()"
   ]
  }
 ],
 "metadata": {
  "kernelspec": {
   "display_name": "Python 3 (ipykernel)",
   "language": "python",
   "name": "python3"
  },
  "language_info": {
   "codemirror_mode": {
    "name": "ipython",
    "version": 3
   },
   "file_extension": ".py",
   "mimetype": "text/x-python",
   "name": "python",
   "nbconvert_exporter": "python",
   "pygments_lexer": "ipython3",
   "version": "3.9.12"
  }
 },
 "nbformat": 4,
 "nbformat_minor": 5
}
