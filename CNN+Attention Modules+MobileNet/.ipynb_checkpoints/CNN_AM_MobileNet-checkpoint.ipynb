{
 "cells": [
  {
   "cell_type": "markdown",
   "id": "YAtdh_3lNdZn",
   "metadata": {
    "id": "YAtdh_3lNdZn"
   },
   "source": [
    "# Libraries"
   ]
  },
  {
   "cell_type": "code",
   "execution_count": 1,
   "id": "ksIB5PMTNdZq",
   "metadata": {
    "id": "ksIB5PMTNdZq"
   },
   "outputs": [],
   "source": [
    "import os\n",
    "import cv2\n",
    "from PIL import Image\n",
    "import tensorflow as tf\n",
    "from tensorflow.keras.models import load_model\n",
    "from tensorflow.keras.utils import to_categorical\n",
    "from tensorflow.keras.optimizers import Adam, RMSprop\n",
    "from tensorflow.keras.callbacks import ReduceLROnPlateau\n",
    "from tensorflow.keras.preprocessing.image import ImageDataGenerator, img_to_array\n",
    "from tensorflow.keras.callbacks import EarlyStopping\n",
    "import numpy as np\n",
    "import matplotlib.pyplot as plt\n",
    "from sklearn.model_selection import train_test_split\n",
    "from sklearn.metrics import accuracy_score, precision_score, recall_score, f1_score\n",
    "import time\n",
    "import math\n",
    "import logging\n",
    "from tensorflow.keras import layers, models"
   ]
  },
  {
   "cell_type": "code",
   "execution_count": 2,
   "id": "f4e10c2b",
   "metadata": {},
   "outputs": [],
   "source": [
    "class ChannelAttention(tf.keras.layers.Layer):\n",
    "      def __init__(self, filters, ratio):\n",
    "        super(ChannelAttention, self).__init__()\n",
    "        self.filters = filters\n",
    "        self.ratio = ratio\n",
    "\n",
    "        def build(self, input_shape):\n",
    "            self.shared_layer_one = tf.keras.layers.Dense(self.filters//self.ratio,\n",
    "                             activation='relu', kernel_initializer='he_normal', \n",
    "                              use_bias=True, \n",
    "                              bias_initializer='zeros')\n",
    "            self.shared_layer_two = tf.keras.layers.Dense(self.filters,\n",
    "                             kernel_initializer='he_normal',\n",
    "                             use_bias=True,\n",
    "                             bias_initializer='zeros')\n",
    "\n",
    "        def call(self, inputs):\n",
    "            # AvgPool\n",
    "            avg_pool = tf.keras.layers.GlobalAveragePooling2D()(inputs)\n",
    "            \n",
    "\n",
    "            avg_pool = self.shared_layer_one(avg_pool)\n",
    "            avg_pool = self.shared_layer_two(avg_pool)\n",
    "\n",
    "            # MaxPool\n",
    "            max_pool = tf.keras.layers.GlobalMaxPooling2D()(inputs)\n",
    "            max_pool = tf.keras.layers.Reshape((1,1,filters))(max_pool)\n",
    "\n",
    "            max_pool = shared_layer_one(max_pool)\n",
    "            max_pool = shared_layer_two(max_pool)\n",
    "\n",
    "\n",
    "            attention = tf.keras.layers.Add()([avg_pool,max_pool])\n",
    "            attention = tf.keras.layers.Activation('sigmoid')(attention)\n",
    "            \n",
    "            return tf.keras.layers.Multiply()([inputs, attention])"
   ]
  },
  {
   "cell_type": "code",
   "execution_count": 3,
   "id": "e3f45866",
   "metadata": {},
   "outputs": [],
   "source": [
    "class SpatialAttention(tf.keras.layers.Layer):\n",
    "      def __init__(self, kernel_size):\n",
    "        super(SpatialAttention, self).__init__()\n",
    "        self.kernel_size = kernel_size\n",
    "        \n",
    "        def build(self, input_shape):\n",
    "            self.conv2d = tf.keras.layers.Conv2D(filters = 1,\n",
    "                    kernel_size=self.kernel_size,\n",
    "                    strides=1,\n",
    "                    padding='same',\n",
    "                    activation='sigmoid',\n",
    "                    kernel_initializer='he_normal',\n",
    "                    use_bias=False)\n",
    "\n",
    "        def call(self, inputs):\n",
    "            \n",
    "            # AvgPool\n",
    "            avg_pool = tf.keras.layers.Lambda(lambda x: tf.keras.backend.mean(x, axis=3, keepdims=True))(inputs)\n",
    "            \n",
    "            # MaxPool\n",
    "            max_pool = tf.keras.layers.Lambda(lambda x: tf.keras.backend.max(x, axis=3, keepdims=True))(inputs)\n",
    "\n",
    "            attention = tf.keras.layers.Concatenate(axis=3)([avg_pool, max_pool])\n",
    "\n",
    "            attention = self.conv2d(attention)\n",
    "\n",
    "\n",
    "            return tf.keras.layers.multiply([inputs, attention]) "
   ]
  },
  {
   "cell_type": "markdown",
   "id": "Gs0ez-ygNdZr",
   "metadata": {
    "id": "Gs0ez-ygNdZr"
   },
   "source": [
    "# Data loading and exploration"
   ]
  },
  {
   "cell_type": "code",
   "execution_count": 4,
   "id": "2RnSUECjNdZs",
   "metadata": {
    "id": "2RnSUECjNdZs"
   },
   "outputs": [],
   "source": [
    "IMG_SHAPE  = 224\n",
    "batch_size = 32\n",
    "random_seed = 9"
   ]
  },
  {
   "cell_type": "code",
   "execution_count": 5,
   "id": "3gUyVhUPNdZs",
   "metadata": {
    "colab": {
     "base_uri": "https://localhost:8080/"
    },
    "id": "3gUyVhUPNdZs",
    "outputId": "66ddcc77-3951-4910-8e76-f77da61b7cac"
   },
   "outputs": [
    {
     "name": "stdout",
     "output_type": "stream",
     "text": [
      "List of categories =  ['closed', 'open'] \n",
      "\n",
      "No. of categories =  2\n"
     ]
    }
   ],
   "source": [
    "fpath = '../Dataset'\n",
    "categories = os.listdir(fpath)\n",
    "print(\"List of categories = \",categories,\"\\n\\nNo. of categories = \", len(categories))"
   ]
  },
  {
   "cell_type": "code",
   "execution_count": 6,
   "id": "YGA4lClJNdZt",
   "metadata": {
    "colab": {
     "base_uri": "https://localhost:8080/"
    },
    "id": "YGA4lClJNdZt",
    "outputId": "3f6d2e84-b8e5-44fb-d027-19cb0d813618"
   },
   "outputs": [
    {
     "name": "stdout",
     "output_type": "stream",
     "text": [
      "No. of images loaded =  2422 \n",
      "No. of labels loaded =  2422\n",
      "<class 'list'> <class 'list'>\n"
     ]
    }
   ],
   "source": [
    "def load_images_and_labels(categories):\n",
    "    img_lst=[]\n",
    "    labels=[]\n",
    "    for index, category in enumerate(categories):\n",
    "        for image_name in os.listdir(fpath+\"/\"+category):\n",
    "            img = cv2.imread(fpath+\"/\"+category+\"/\"+image_name)\n",
    "            img = cv2.cvtColor(img, cv2.COLOR_BGR2RGB)\n",
    "            img = cv2.resize(img, (IMG_SHAPE, IMG_SHAPE))\n",
    "            img_array = Image.fromarray(img, 'RGB')\n",
    "\n",
    "            img_lst.append(np.array(img_array))\n",
    "\n",
    "            labels.append(index)\n",
    "    return img_lst, labels\n",
    "\n",
    "images, labels = load_images_and_labels(categories)\n",
    "print(\"No. of images loaded = \",len(images),\"\\nNo. of labels loaded = \",len(labels))\n",
    "print(type(images),type(labels))"
   ]
  },
  {
   "cell_type": "code",
   "execution_count": 7,
   "id": "BKonXzu7NdZu",
   "metadata": {
    "colab": {
     "base_uri": "https://localhost:8080/"
    },
    "id": "BKonXzu7NdZu",
    "outputId": "0e1f702a-d376-4631-a961-9d96a97b7e15"
   },
   "outputs": [
    {
     "name": "stdout",
     "output_type": "stream",
     "text": [
      "Images shape =  (2422, 224, 224, 3) \n",
      "Labels shape =  (2422,)\n",
      "<class 'numpy.ndarray'> <class 'numpy.ndarray'>\n"
     ]
    }
   ],
   "source": [
    "images = np.array(images)\n",
    "labels = np.array(labels)\n",
    "\n",
    "print(\"Images shape = \",images.shape,\"\\nLabels shape = \",labels.shape)\n",
    "print(type(images),type(labels))"
   ]
  },
  {
   "cell_type": "code",
   "execution_count": 8,
   "id": "ImUCL3FgNdZu",
   "metadata": {
    "colab": {
     "base_uri": "https://localhost:8080/",
     "height": 594
    },
    "id": "ImUCL3FgNdZu",
    "outputId": "1d467309-66d5-4e3c-b3ab-bb07672afeec",
    "scrolled": true
   },
   "outputs": [
    {
     "data": {
      "image/png": "[encoded data removed]",
      "text/plain": [
       "<Figure size 1368x720 with 9 Axes>"
      ]
     },
     "metadata": {},
     "output_type": "display_data"
    }
   ],
   "source": [
    "def display_rand_images(images, labels):\n",
    "    plt.figure(1 , figsize = (19 , 10))\n",
    "    n = 0 \n",
    "    for i in range(9):\n",
    "        n += 1 \n",
    "        r = np.random.randint(0 , images.shape[0] , 1)\n",
    "        \n",
    "        plt.subplot(3 , 3 , n)\n",
    "        plt.subplots_adjust(hspace = 0.3 , wspace = 0.3)\n",
    "        plt.imshow(images[r[0]])\n",
    "        \n",
    "        plt.title('Ojos : {}'.format(labels[r[0]]))\n",
    "        plt.xticks([])\n",
    "        plt.yticks([])\n",
    "        \n",
    "    plt.show()\n",
    "    \n",
    "display_rand_images(images, labels)"
   ]
  },
  {
   "cell_type": "markdown",
   "id": "r-DS_aa2NdZv",
   "metadata": {
    "id": "r-DS_aa2NdZv"
   },
   "source": [
    "# Prepare data for training the CNN model"
   ]
  },
  {
   "cell_type": "code",
   "execution_count": 9,
   "id": "v6MUlvjuNdZv",
   "metadata": {
    "colab": {
     "base_uri": "https://localhost:8080/"
    },
    "id": "v6MUlvjuNdZv",
    "outputId": "2e1ae8af-9878-4d0a-8dee-baa8d0c0d10c"
   },
   "outputs": [
    {
     "name": "stdout",
     "output_type": "stream",
     "text": [
      "'n' values before shuffling =  [   0    1    2 ... 2419 2420 2421]\n",
      "\n",
      "'n' values after shuffling =  [ 737 2294  456 ...  501  348  382]\n"
     ]
    }
   ],
   "source": [
    "#1-step in data shuffling\n",
    "\n",
    "#get equally spaced numbers in a given range\n",
    "n = np.arange(images.shape[0])\n",
    "print(\"'n' values before shuffling = \",n)\n",
    "\n",
    "#shuffle all the equally spaced values in list 'n'\n",
    "np.random.seed(random_seed)\n",
    "np.random.shuffle(n)\n",
    "print(\"\\n'n' values after shuffling = \",n)"
   ]
  },
  {
   "cell_type": "code",
   "execution_count": 10,
   "id": "Mgg3VckNNdZw",
   "metadata": {
    "colab": {
     "base_uri": "https://localhost:8080/"
    },
    "id": "Mgg3VckNNdZw",
    "outputId": "daa8d499-4297-412d-a063-2de318f229df"
   },
   "outputs": [
    {
     "name": "stdout",
     "output_type": "stream",
     "text": [
      "Images shape after shuffling =  (2422, 224, 224, 3) \n",
      "Labels shape after shuffling =  (2422,)\n"
     ]
    }
   ],
   "source": [
    "#2-step in data shuffling\n",
    "\n",
    "#shuffle images and corresponding labels data in both the lists\n",
    "images = images[n]\n",
    "labels = labels[n]\n",
    "\n",
    "print(\"Images shape after shuffling = \",images.shape,\"\\nLabels shape after shuffling = \",labels.shape)"
   ]
  },
  {
   "cell_type": "code",
   "execution_count": 11,
   "id": "37YK1Q6fNdZw",
   "metadata": {
    "colab": {
     "base_uri": "https://localhost:8080/"
    },
    "id": "37YK1Q6fNdZw",
    "outputId": "bca44890-fa4d-4809-b47d-df62e0952315"
   },
   "outputs": [
    {
     "name": "stdout",
     "output_type": "stream",
     "text": [
      "Images shape after normalization =  (2422, 224, 224, 3)\n"
     ]
    }
   ],
   "source": [
    "images = images.astype(np.float32)\n",
    "labels = labels.astype(np.int32)\n",
    "images = images/255\n",
    "print(\"Images shape after normalization = \",images.shape)"
   ]
  },
  {
   "cell_type": "code",
   "execution_count": 12,
   "id": "cxYGrmo5NdZx",
   "metadata": {
    "colab": {
     "base_uri": "https://localhost:8080/"
    },
    "id": "cxYGrmo5NdZx",
    "outputId": "e8b8c38f-fb67-4d4d-c810-b157bce9ca91"
   },
   "outputs": [
    {
     "name": "stdout",
     "output_type": "stream",
     "text": [
      "x_train shape =  (1879, 224, 224, 3)\n",
      "y_train shape =  (1879,)\n",
      "\n",
      "x_test shape =  (485, 224, 224, 3)\n",
      "y_test shape =  (485,)\n",
      "\n",
      "x_val shape =  (58, 224, 224, 3)\n",
      "y_val shape =  (58,)\n"
     ]
    }
   ],
   "source": [
    "x_train, x_test, y_train, y_test = train_test_split(images, labels, test_size = 0.2, random_state = random_seed)\n",
    "\n",
    "x_val = x_train[:58]\n",
    "y_val = y_train[:58]\n",
    "x_train = x_train[58:]\n",
    "y_train = y_train[58:]\n",
    "\n",
    "print(\"x_train shape = \",x_train.shape)\n",
    "print(\"y_train shape = \",y_train.shape)\n",
    "print(\"\\nx_test shape = \",x_test.shape)\n",
    "print(\"y_test shape = \",y_test.shape)\n",
    "\n",
    "print(\"\\nx_val shape = \",x_val.shape)\n",
    "print(\"y_val shape = \",y_val.shape)"
   ]
  },
  {
   "cell_type": "code",
   "execution_count": 13,
   "id": "u9homdLhNdZx",
   "metadata": {
    "id": "u9homdLhNdZx"
   },
   "outputs": [],
   "source": [
    "##One-hot-encode\n",
    "y_train = to_categorical(y_train, 3)\n",
    "y_test = to_categorical(y_test, 3)\n",
    "y_val = to_categorical(y_val, 3)"
   ]
  },
  {
   "cell_type": "markdown",
   "id": "yoCoQCciNdZx",
   "metadata": {
    "id": "yoCoQCciNdZx"
   },
   "source": [
    "# Define CNN model"
   ]
  },
  {
   "cell_type": "code",
   "execution_count": 14,
   "id": "rAMNNIxCNdZy",
   "metadata": {
    "colab": {
     "base_uri": "https://localhost:8080/"
    },
    "id": "rAMNNIxCNdZy",
    "outputId": "5558120f-793e-4dfe-9b50-3c3c99b6a2d7"
   },
   "outputs": [],
   "source": [
    "base_model = tf.keras.applications.MobileNetV2(input_shape=x_train[0].shape, include_top=False, weights=\"imagenet\")"
   ]
  },
  {
   "cell_type": "code",
   "execution_count": 15,
   "id": "w-_Sr-K9NdZy",
   "metadata": {
    "colab": {
     "base_uri": "https://localhost:8080/"
    },
    "id": "w-_Sr-K9NdZy",
    "outputId": "7734415b-9bc5-461f-f29a-4452d5bd8743"
   },
   "outputs": [
    {
     "name": "stdout",
     "output_type": "stream",
     "text": [
      "input_1\n",
      "Conv1\n",
      "bn_Conv1\n",
      "Conv1_relu\n",
      "expanded_conv_depthwise\n",
      "expanded_conv_depthwise_BN\n",
      "expanded_conv_depthwise_relu\n",
      "expanded_conv_project\n",
      "expanded_conv_project_BN\n",
      "block_1_expand\n",
      "block_1_expand_BN\n",
      "block_1_expand_relu\n",
      "block_1_pad\n",
      "block_1_depthwise\n",
      "block_1_depthwise_BN\n",
      "block_1_depthwise_relu\n",
      "block_1_project\n",
      "block_1_project_BN\n",
      "block_2_expand\n",
      "block_2_expand_BN\n",
      "block_2_expand_relu\n",
      "block_2_depthwise\n",
      "block_2_depthwise_BN\n",
      "block_2_depthwise_relu\n",
      "block_2_project\n",
      "block_2_project_BN\n",
      "block_2_add\n",
      "block_3_expand\n",
      "block_3_expand_BN\n",
      "block_3_expand_relu\n",
      "block_3_pad\n",
      "block_3_depthwise\n",
      "block_3_depthwise_BN\n",
      "block_3_depthwise_relu\n",
      "block_3_project\n",
      "block_3_project_BN\n",
      "block_4_expand\n",
      "block_4_expand_BN\n",
      "block_4_expand_relu\n",
      "block_4_depthwise\n",
      "block_4_depthwise_BN\n",
      "block_4_depthwise_relu\n",
      "block_4_project\n",
      "block_4_project_BN\n",
      "block_4_add\n",
      "block_5_expand\n",
      "block_5_expand_BN\n",
      "block_5_expand_relu\n",
      "block_5_depthwise\n",
      "block_5_depthwise_BN\n",
      "block_5_depthwise_relu\n",
      "block_5_project\n",
      "block_5_project_BN\n",
      "block_5_add\n",
      "block_6_expand\n",
      "block_6_expand_BN\n",
      "block_6_expand_relu\n",
      "block_6_pad\n",
      "block_6_depthwise\n",
      "block_6_depthwise_BN\n",
      "block_6_depthwise_relu\n",
      "block_6_project\n",
      "block_6_project_BN\n",
      "block_7_expand\n",
      "block_7_expand_BN\n",
      "block_7_expand_relu\n",
      "block_7_depthwise\n",
      "block_7_depthwise_BN\n",
      "block_7_depthwise_relu\n",
      "block_7_project\n",
      "block_7_project_BN\n",
      "block_7_add\n",
      "block_8_expand\n",
      "block_8_expand_BN\n",
      "block_8_expand_relu\n",
      "block_8_depthwise\n",
      "block_8_depthwise_BN\n",
      "block_8_depthwise_relu\n",
      "block_8_project\n",
      "block_8_project_BN\n",
      "block_8_add\n",
      "block_9_expand\n",
      "block_9_expand_BN\n",
      "block_9_expand_relu\n",
      "block_9_depthwise\n",
      "block_9_depthwise_BN\n",
      "block_9_depthwise_relu\n",
      "block_9_project\n",
      "block_9_project_BN\n",
      "block_9_add\n",
      "block_10_expand\n",
      "block_10_expand_BN\n",
      "block_10_expand_relu\n",
      "block_10_depthwise\n",
      "block_10_depthwise_BN\n",
      "block_10_depthwise_relu\n",
      "block_10_project\n",
      "block_10_project_BN\n",
      "block_11_expand\n",
      "block_11_expand_BN\n",
      "block_11_expand_relu\n",
      "block_11_depthwise\n",
      "block_11_depthwise_BN\n",
      "block_11_depthwise_relu\n",
      "block_11_project\n",
      "block_11_project_BN\n",
      "block_11_add\n",
      "block_12_expand\n",
      "block_12_expand_BN\n",
      "block_12_expand_relu\n",
      "block_12_depthwise\n",
      "block_12_depthwise_BN\n",
      "block_12_depthwise_relu\n",
      "block_12_project\n",
      "block_12_project_BN\n",
      "block_12_add\n",
      "block_13_expand\n",
      "block_13_expand_BN\n",
      "block_13_expand_relu\n",
      "block_13_pad\n",
      "block_13_depthwise\n",
      "block_13_depthwise_BN\n",
      "block_13_depthwise_relu\n",
      "block_13_project\n",
      "block_13_project_BN\n",
      "block_14_expand\n",
      "block_14_expand_BN\n",
      "block_14_expand_relu\n",
      "block_14_depthwise\n",
      "block_14_depthwise_BN\n",
      "block_14_depthwise_relu\n",
      "block_14_project\n",
      "block_14_project_BN\n",
      "block_14_add\n",
      "block_15_expand\n",
      "block_15_expand_BN\n",
      "block_15_expand_relu\n",
      "block_15_depthwise\n",
      "block_15_depthwise_BN\n",
      "block_15_depthwise_relu\n",
      "block_15_project\n",
      "block_15_project_BN\n",
      "block_15_add\n",
      "block_16_expand\n",
      "block_16_expand_BN\n",
      "block_16_expand_relu\n",
      "block_16_depthwise\n",
      "block_16_depthwise_BN\n",
      "block_16_depthwise_relu\n",
      "block_16_project\n",
      "block_16_project_BN\n",
      "Conv_1\n",
      "Conv_1_bn\n",
      "out_relu\n"
     ]
    }
   ],
   "source": [
    "for layer in base_model.layers:\n",
    "    print(layer.name)\n",
    "    layer.trainable = False"
   ]
  },
  {
   "cell_type": "code",
   "execution_count": 16,
   "id": "IYOC_pOONdZy",
   "metadata": {
    "id": "IYOC_pOONdZy"
   },
   "outputs": [],
   "source": [
    "flatten_layer = layers.Flatten()\n",
    "dense_layer_1 = layers.Dense(50, activation='relu')\n",
    "dense_layer_2 = layers.Dense(20, activation='relu')\n",
    "prediction_layer = layers.Dense(3, activation='sigmoid')\n",
    "\n",
    "\n",
    "model = models.Sequential([\n",
    "    base_model,\n",
    "    flatten_layer,\n",
    "    dense_layer_1,\n",
    "    dense_layer_2,\n",
    "    ChannelAttention(64, 8),\n",
    "    SpatialAttention(7),\n",
    "    prediction_layer\n",
    "])"
   ]
  },
  {
   "cell_type": "markdown",
   "id": "z_x8ptDlNdZy",
   "metadata": {
    "id": "z_x8ptDlNdZy"
   },
   "source": [
    "# Train model"
   ]
  },
  {
   "cell_type": "code",
   "execution_count": 17,
   "id": "OFv7r-CcNdZz",
   "metadata": {
    "id": "OFv7r-CcNdZz"
   },
   "outputs": [],
   "source": [
    "model.compile(optimizer='adam', loss=tf.keras.losses.categorical_crossentropy, metrics=['acc'])"
   ]
  },
  {
   "cell_type": "code",
   "execution_count": 18,
   "id": "ynSrKkWsNdZz",
   "metadata": {
    "colab": {
     "base_uri": "https://localhost:8080/"
    },
    "id": "ynSrKkWsNdZz",
    "outputId": "2bd84106-5866-4fa2-e164-2ca6594eca68"
   },
   "outputs": [
    {
     "name": "stdout",
     "output_type": "stream",
     "text": [
      "Model: \"sequential\"\n",
      "_________________________________________________________________\n",
      " Layer (type)                Output Shape              Param #   \n",
      "=================================================================\n",
      " mobilenetv2_1.00_224 (Funct  (None, 7, 7, 1280)       2257984   \n",
      " ional)                                                          \n",
      "                                                                 \n",
      " flatten (Flatten)           (None, 62720)             0         \n",
      "                                                                 \n",
      " dense (Dense)               (None, 50)                3136050   \n",
      "                                                                 \n",
      " dense_1 (Dense)             (None, 20)                1020      \n",
      "                                                                 \n",
      " channel_attention (ChannelA  (None, 20)               0         \n",
      " ttention)                                                       \n",
      "                                                                 \n",
      " spatial_attention (SpatialA  (None, 20)               0         \n",
      " ttention)                                                       \n",
      "                                                                 \n",
      " dense_2 (Dense)             (None, 3)                 63        \n",
      "                                                                 \n",
      "=================================================================\n",
      "Total params: 5,395,117\n",
      "Trainable params: 3,137,133\n",
      "Non-trainable params: 2,257,984\n",
      "_________________________________________________________________\n"
     ]
    }
   ],
   "source": [
    "model.summary()"
   ]
  },
  {
   "cell_type": "code",
   "execution_count": 19,
   "id": "NtMX2jIoNdZz",
   "metadata": {
    "id": "NtMX2jIoNdZz"
   },
   "outputs": [],
   "source": [
    "steps_per_epoch = (x_train.shape[0]//batch_size)\n",
    "validation_steps = (x_val.shape[0] // batch_size)\n",
    "\n",
    "es = EarlyStopping(monitor='val_loss', mode='min', verbose=1, patience=200)"
   ]
  },
  {
   "cell_type": "code",
   "execution_count": 20,
   "id": "ruFg56G2NdZz",
   "metadata": {
    "colab": {
     "base_uri": "https://localhost:8080/"
    },
    "id": "ruFg56G2NdZz",
    "outputId": "33bec51e-3548-41c7-96de-45a347032799"
   },
   "outputs": [
    {
     "data": {
      "text/plain": [
       "((1879, 224, 224, 3), (1879, 3))"
      ]
     },
     "execution_count": 20,
     "metadata": {},
     "output_type": "execute_result"
    }
   ],
   "source": [
    "x_train.shape,y_train.shape"
   ]
  },
  {
   "cell_type": "code",
   "execution_count": 21,
   "id": "DK3K1a8ENdZ0",
   "metadata": {
    "colab": {
     "base_uri": "https://localhost:8080/"
    },
    "id": "DK3K1a8ENdZ0",
    "outputId": "0920fe65-0db5-4ac1-e7a9-adafb86dc10f",
    "scrolled": true
   },
   "outputs": [
    {
     "name": "stdout",
     "output_type": "stream",
     "text": [
      "Epoch 1/20\n",
      "58/58 [==============================] - 107s 1s/step - loss: 0.3642 - acc: 0.8939 - val_loss: 0.1201 - val_acc: 0.9375\n",
      "Epoch 2/20\n",
      "58/58 [==============================] - 77s 1s/step - loss: 0.0626 - acc: 0.9762 - val_loss: 0.0163 - val_acc: 1.0000\n",
      "Epoch 3/20\n",
      "58/58 [==============================] - 78s 1s/step - loss: 0.0463 - acc: 0.9838 - val_loss: 0.0674 - val_acc: 0.9688\n",
      "Epoch 4/20\n",
      "58/58 [==============================] - 77s 1s/step - loss: 0.0257 - acc: 0.9903 - val_loss: 0.0568 - val_acc: 0.9688\n",
      "Epoch 5/20\n",
      "58/58 [==============================] - 77s 1s/step - loss: 0.0138 - acc: 0.9962 - val_loss: 7.4559e-04 - val_acc: 1.0000\n",
      "Epoch 6/20\n",
      "58/58 [==============================] - 79s 1s/step - loss: 0.0080 - acc: 0.9968 - val_loss: 0.0035 - val_acc: 1.0000\n",
      "Epoch 7/20\n",
      "58/58 [==============================] - 78s 1s/step - loss: 0.0085 - acc: 0.9973 - val_loss: 5.4494e-04 - val_acc: 1.0000\n",
      "Epoch 8/20\n",
      "58/58 [==============================] - 63s 1s/step - loss: 0.0075 - acc: 0.9973 - val_loss: 0.0039 - val_acc: 1.0000\n",
      "Epoch 9/20\n",
      "58/58 [==============================] - 66s 1s/step - loss: 0.0036 - acc: 0.9995 - val_loss: 3.1498e-04 - val_acc: 1.0000\n",
      "Epoch 10/20\n",
      "58/58 [==============================] - 61s 1s/step - loss: 8.8035e-04 - acc: 1.0000 - val_loss: 3.3421e-04 - val_acc: 1.0000\n",
      "Epoch 11/20\n",
      "58/58 [==============================] - 65s 1s/step - loss: 8.1889e-04 - acc: 1.0000 - val_loss: 4.7581e-04 - val_acc: 1.0000\n",
      "Epoch 12/20\n",
      "58/58 [==============================] - 66s 1s/step - loss: 6.0549e-04 - acc: 1.0000 - val_loss: 2.8888e-04 - val_acc: 1.0000\n",
      "Epoch 13/20\n",
      "58/58 [==============================] - 41s 697ms/step - loss: 5.7693e-04 - acc: 1.0000 - val_loss: 1.7283e-04 - val_acc: 1.0000\n",
      "Epoch 14/20\n",
      "58/58 [==============================] - 28s 475ms/step - loss: 4.7293e-04 - acc: 1.0000 - val_loss: 2.1558e-04 - val_acc: 1.0000\n",
      "Epoch 15/20\n",
      "58/58 [==============================] - 45s 773ms/step - loss: 4.6562e-04 - acc: 1.0000 - val_loss: 3.4720e-04 - val_acc: 1.0000\n",
      "Epoch 16/20\n",
      "58/58 [==============================] - 44s 765ms/step - loss: 3.7020e-04 - acc: 1.0000 - val_loss: 1.8341e-04 - val_acc: 1.0000\n",
      "Epoch 17/20\n",
      "58/58 [==============================] - 27s 458ms/step - loss: 4.2891e-04 - acc: 1.0000 - val_loss: 1.4929e-04 - val_acc: 1.0000\n",
      "Epoch 18/20\n",
      "58/58 [==============================] - 27s 470ms/step - loss: 3.9569e-04 - acc: 1.0000 - val_loss: 3.3926e-04 - val_acc: 1.0000\n",
      "Epoch 19/20\n",
      "58/58 [==============================] - 27s 474ms/step - loss: 3.4492e-04 - acc: 1.0000 - val_loss: 1.8903e-04 - val_acc: 1.0000\n",
      "Epoch 20/20\n",
      "58/58 [==============================] - 28s 482ms/step - loss: 3.1726e-04 - acc: 1.0000 - val_loss: 2.2789e-04 - val_acc: 1.0000\n"
     ]
    }
   ],
   "source": [
    "start_time = time.time()\n",
    "\n",
    "history = model.fit(x_train, y_train,\n",
    "    steps_per_epoch=steps_per_epoch,\n",
    "    epochs = 20,\n",
    "    validation_data=(x_val, y_val),\n",
    "    validation_steps=validation_steps,\n",
    "    batch_size = batch_size,\n",
    "    callbacks=[es],\n",
    "    verbose=1)\n",
    "\n",
    "logging.basicConfig(filename=\"CNN-basedTL_MobileNet_log.txt\", level=logging.INFO)\n",
    "logging.info(\"Training Execution Time:\" + time.strftime(\"%H:%M:%S\", time.gmtime(time.time() - start_time)))"
   ]
  },
  {
   "cell_type": "markdown",
   "id": "V7MDUvF8NdZ0",
   "metadata": {
    "id": "V7MDUvF8NdZ0"
   },
   "source": [
    "# Evaluation model"
   ]
  },
  {
   "cell_type": "code",
   "execution_count": 23,
   "id": "rSEQp4LqNdZ0",
   "metadata": {
    "colab": {
     "base_uri": "https://localhost:8080/"
    },
    "id": "rSEQp4LqNdZ0",
    "outputId": "9b8c088c-5968-4e78-c234-3918b47df64d"
   },
   "outputs": [
    {
     "name": "stdout",
     "output_type": "stream",
     "text": [
      "16/16 [==============================] - 7s 417ms/step - loss: 0.1587 - acc: 0.9546\n",
      "test_loss: 15.87\n",
      "test_accuracy: 95.46\n"
     ]
    }
   ],
   "source": [
    "start_time = time.time()\n",
    "\n",
    "loss, accuracy = model.evaluate(x_test,y_test,batch_size=batch_size)\n",
    "print('test_loss: %.2f' % (loss * 100.0))  \n",
    "print('test_accuracy: %.2f' % (accuracy * 100.0))\n",
    "\n",
    "logging.info(\"Evaluation Execution Time: \" + time.strftime(\"%H:%M:%S\", time.gmtime(time.time() - start_time)))\n",
    "logging.info(\"test_loss:\" + str(loss))\n",
    "logging.info(\"test accuracy:\" + str(accuracy))"
   ]
  },
  {
   "cell_type": "code",
   "execution_count": 28,
   "id": "DLmoHLGDNdZ0",
   "metadata": {
    "colab": {
     "base_uri": "https://localhost:8080/"
    },
    "id": "DLmoHLGDNdZ0",
    "outputId": "d42cdacd-db98-4f5d-adca-812783c15d67"
   },
   "outputs": [
    {
     "name": "stdout",
     "output_type": "stream",
     "text": [
      "Accuracy: 50.93\n",
      "F1 score: 34.37\n",
      "Precision: 25.94\n",
      "Recall: 50.93\n"
     ]
    },
    {
     "name": "stderr",
     "output_type": "stream",
     "text": [
      "C:\\Users\\pined\\Anaconda3\\lib\\site-packages\\sklearn\\metrics\\_classification.py:1318: UndefinedMetricWarning: Precision is ill-defined and being set to 0.0 in labels with no predicted samples. Use `zero_division` parameter to control this behavior.\n",
      "  _warn_prf(average, modifier, msg_start, len(result))\n"
     ]
    }
   ],
   "source": [
    "model_probs = model.predict(x_test,batch_size=batch_size,verbose=0)\n",
    "y_pred = model_probs\n",
    "# predict crisp classes for test set\n",
    "model_classes = np.argmax(model_probs,axis=1)\n",
    "# reduce to 1d array\n",
    "model_probs = model_probs[:, 0]\n",
    "\n",
    "y_test_reduced = np.argmax(y_test,axis=1)\n",
    " \n",
    "# accuracy: (tp + tn) / (p + n)\n",
    "accuracy = accuracy_score(y_test_reduced, model_classes)*100\n",
    "# precision tp / (tp + fp)\n",
    "precision = precision_score(y_test_reduced, model_classes, average='weighted')*100\n",
    "# recall: tp / (tp + fn)\n",
    "recall = recall_score(y_test_reduced, model_classes, average='weighted')*100\n",
    "# f1: 2 tp / (2 tp + fp + fn)\n",
    "f1 = f1_score(y_test_reduced, model_classes, average='weighted')*100\n",
    "\n",
    "print('Accuracy: %.2f' % accuracy)\n",
    "print('F1 score: %.2f' % f1)\n",
    "print('Precision: %.2f' % precision)\n",
    "print('Recall: %.2f' % recall)\n",
    "\n",
    "logging.info('Accuracy: %.2f' % accuracy)\n",
    "logging.info('F1 score: %.2f' % f1)\n",
    "logging.info('Precision: %.2f' % precision)\n",
    "logging.info('Recall: %.2f' % recall)"
   ]
  },
  {
   "cell_type": "code",
   "execution_count": 29,
   "id": "IvfEzUQlNdZ1",
   "metadata": {
    "colab": {
     "base_uri": "https://localhost:8080/",
     "height": 281
    },
    "id": "IvfEzUQlNdZ1",
    "outputId": "5c5cea90-cbca-41db-b58c-c8608d10e515"
   },
   "outputs": [
    {
     "data": {
      "image/png": "[encoded data removed]",
      "text/plain": [
       "<Figure size 432x288 with 1 Axes>"
      ]
     },
     "metadata": {
      "needs_background": "light"
     },
     "output_type": "display_data"
    }
   ],
   "source": [
    "accuracy = history.history['acc']\n",
    "validation_accuracy = history.history['val_acc']\n",
    "epochs = range(len(accuracy))\n",
    "plt.plot(epochs, accuracy, 'r', label='Training accuracy')\n",
    "plt.plot(epochs, validation_accuracy, 'b', label='Validation accuracy')\n",
    "plt.title('Training and validation accuracy')\n",
    "plt.legend(loc=0)\n",
    "plt.savefig(\"Training and validation accuracy - MobileNet_AttentionModules.png\")\n",
    "plt.show()"
   ]
  },
  {
   "cell_type": "code",
   "execution_count": 30,
   "id": "B8NaXoi9NdZ1",
   "metadata": {
    "id": "B8NaXoi9NdZ1"
   },
   "outputs": [],
   "source": [
    "Y_pred_classes = np.argmax(y_pred,axis = 1) "
   ]
  },
  {
   "cell_type": "code",
   "execution_count": 27,
   "id": "e931fe5c",
   "metadata": {},
   "outputs": [],
   "source": [
    "Y_test_classes = np.argmax(y_test,axis = 1) "
   ]
  },
  {
   "cell_type": "code",
   "execution_count": 31,
   "id": "ba7bbc69",
   "metadata": {},
   "outputs": [
    {
     "name": "stdout",
     "output_type": "stream",
     "text": [
      "Confusion Matrix\n",
      "\n",
      "[[247   0]\n",
      " [238   0]]\n"
     ]
    }
   ],
   "source": [
    "from sklearn.metrics import confusion_matrix\n",
    "confusion = confusion_matrix(Y_test_classes,Y_pred_classes)\n",
    "print('Confusion Matrix\\n')\n",
    "print(confusion) "
   ]
  },
  {
   "cell_type": "code",
   "execution_count": 32,
   "id": "8f419bb3",
   "metadata": {},
   "outputs": [
    {
     "data": {
      "image/png": "[encoded data removed]",
      "text/plain": [
       "<Figure size 504x360 with 2 Axes>"
      ]
     },
     "metadata": {
      "needs_background": "light"
     },
     "output_type": "display_data"
    }
   ],
   "source": [
    "import seaborn as sns\n",
    "plt.figure(figsize=(7, 5))\n",
    "plt.xlabel(\"Preciccion\")\n",
    "plt.ylabel(\"Actual\")\n",
    "gf = sns.heatmap(confusion, annot=True,  annot_kws={'size': 15}, fmt = \"d\")\n",
    "gf.set_title('Confusion Matrix with labels')\n",
    "gf.set_xlabel('Predicted Values')\n",
    "gf.set_ylabel('Actual Values ')\n",
    "plt.show()"
   ]
  }
 ],
 "metadata": {
  "colab": {
   "name": "3. CNN-based TL_MobileNetV2.ipynb",
   "provenance": []
  },
  "kernelspec": {
   "display_name": "Python 3 (ipykernel)",
   "language": "python",
   "name": "python3"
  },
  "language_info": {
   "codemirror_mode": {
    "name": "ipython",
    "version": 3
   },
   "file_extension": ".py",
   "mimetype": "text/x-python",
   "name": "python",
   "nbconvert_exporter": "python",
   "pygments_lexer": "ipython3",
   "version": "3.9.12"
  }
 },
 "nbformat": 4,
 "nbformat_minor": 5
}
